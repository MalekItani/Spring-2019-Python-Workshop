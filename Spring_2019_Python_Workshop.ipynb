{
  "nbformat": 4,
  "nbformat_minor": 0,
  "metadata": {
    "colab": {
      "name": "Spring_2019_Python_Workshop.ipynb",
      "version": "0.3.2",
      "provenance": [],
      "collapsed_sections": [],
      "include_colab_link": true
    },
    "kernelspec": {
      "display_name": "Python 3",
      "language": "python",
      "name": "python3"
    }
  },
  "cells": [
    {
      "cell_type": "markdown",
      "metadata": {
        "id": "view-in-github",
        "colab_type": "text"
      },
      "source": [
        "<a href=\"https://colab.research.google.com/github/MalekItani/Spring-2019-Python-Workshop/blob/master/Spring_2019_Python_Workshop.ipynb\" target=\"_parent\"><img src=\"https://colab.research.google.com/assets/colab-badge.svg\" alt=\"Open In Colab\"/></a>"
      ]
    },
    {
      "metadata": {
        "id": "9FJFZdfYQBsn",
        "colab_type": "text"
      },
      "cell_type": "markdown",
      "source": [
        "# Welcome to the AUB Robotics Club Python Workshop\n",
        "\n",
        "####Malek Itani\n",
        "\n",
        "\n",
        "\n",
        "---\n",
        "\n",
        "\n",
        "\n",
        "---\n",
        "\n",
        "\\\n",
        "\n",
        "Python is a simple, multipurpose programming language that is easy to learn. <br>\n",
        "Released in 1991, Python has a design philosophy that emphasizes code readability. <br>\n",
        "It is used in a variety of fields including Machine Learning, Internet of Things and Robotics. <br>\n",
        "\n",
        "\\\n",
        "\n",
        "## Workshop flow:\n",
        "The workshop is really divided into two parts: \n",
        "-  In the first part, we will look at the basics of Python, i.e. Python syntax, how it runs, Python conventions, ... \n",
        "-  In the second part, we will take a look at the things that make Python unique. We will discuss things such as virtual environments, pip, fundamental modules and more. Arguably, without this part, Python is almost useless.\n",
        "\n",
        "Some parts of the workshop consists of tasks inside a folder that has been distributed to you, others should be completed on this Jupyter Notebook, this is to give you a taste of both modes of writing Python.\n",
        "\n",
        "## Part I\n",
        "\n",
        "### I/O & arithmetic"
      ]
    },
    {
      "metadata": {
        "id": "qRLTXIMcQBsr",
        "colab_type": "code",
        "colab": {}
      },
      "cell_type": "code",
      "source": [
        "# Printing something to the screen is fairly straightforward.\n",
        "# Press ctrl+Enter to run this cell.\n",
        "\n",
        "print('Hello World')"
      ],
      "execution_count": 0,
      "outputs": []
    },
    {
      "metadata": {
        "id": "DbZMWGblQBs5",
        "colab_type": "code",
        "colab": {}
      },
      "cell_type": "code",
      "source": [
        "x = 1\n",
        "y = 4\n",
        "print(x+y)\n",
        "\n",
        "# Complex numbers work too!\n",
        "x = 1+2j\n",
        "y = 4j - 3\n",
        "print(x/y)\n",
        "\n",
        "# Numbers can become very large\n",
        "x = 2**(1000)\n",
        "print(x)\n",
        "\n",
        "# Or even of different bases\n",
        "x = 0x2a\n",
        "print(x)\n",
        "\n",
        "x = input('Enter your name: ') # Read some input from the user\n",
        "print('Hello, ' + x)"
      ],
      "execution_count": 0,
      "outputs": []
    },
    {
      "metadata": {
        "id": "GA_PeEjPQBs-",
        "colab_type": "text"
      },
      "cell_type": "markdown",
      "source": [
        "### Loops"
      ]
    },
    {
      "metadata": {
        "scrolled": true,
        "id": "S46WkQ0GQBtA",
        "colab_type": "code",
        "colab": {}
      },
      "cell_type": "code",
      "source": [
        "# For loops iterate of all integers in some range.\n",
        "# Notice that the loop starts at 0 and increments by 1 (by default).\n",
        "print('Loop 1')\n",
        "for i in range(4):\n",
        "    print(i) # Indentation is mandatory inside loops.\n",
        "    \n",
        "print('Loop 2')\n",
        "for i in range(2, 11, 5):\n",
        "    print(i) # Indentation is mandatory inside loops."
      ],
      "execution_count": 0,
      "outputs": []
    },
    {
      "metadata": {
        "id": "6K_7eUadQBtF",
        "colab_type": "code",
        "colab": {}
      },
      "cell_type": "code",
      "source": [
        "# While loops iterate as long as some condition is true\n",
        "x = 5\n",
        "while x > 0:\n",
        "    print(x)\n",
        "    x -= 1\n",
        "print('Lift-off!')"
      ],
      "execution_count": 0,
      "outputs": []
    },
    {
      "metadata": {
        "id": "bKQEXLFOQBtJ",
        "colab_type": "text"
      },
      "cell_type": "markdown",
      "source": [
        "### Functions"
      ]
    },
    {
      "metadata": {
        "id": "4RwenWR-QBtK",
        "colab_type": "code",
        "colab": {}
      },
      "cell_type": "code",
      "source": [
        "# An organized way of packaging a set of lines that may be used several times in a program\n",
        "\n",
        "def print_exponentiation(x, y):\n",
        "    print(x**y)\n",
        "\n",
        "a = 3\n",
        "b = 4\n",
        "print_exponentiation(a, b)\n"
      ],
      "execution_count": 0,
      "outputs": []
    },
    {
      "metadata": {
        "id": "rfdyxKhuQBtP",
        "colab_type": "code",
        "colab": {}
      },
      "cell_type": "code",
      "source": [
        "# Sometimes, functions can return values to be used later\n",
        "def double(x):\n",
        "    return 2*x\n",
        "\n",
        "\n",
        "# Functions can return multiple values\n",
        "def div(x, y):\n",
        "    return x//y, x%y\n",
        "\n",
        "x = 5672\n",
        "y = 23\n",
        "\n",
        "quotient, remainder = div(x, y)\n",
        "print('{0} divided by {1} is {2} with a remainder of {3}'.format(x, y, quotient, remainder))\n"
      ],
      "execution_count": 0,
      "outputs": []
    },
    {
      "metadata": {
        "id": "LI086m4SQBtX",
        "colab_type": "text"
      },
      "cell_type": "markdown",
      "source": [
        "### Conditional Statements"
      ]
    },
    {
      "metadata": {
        "id": "ztDmcuzBQBtY",
        "colab_type": "code",
        "colab": {}
      },
      "cell_type": "code",
      "source": [
        "# A way to specify the behavior of a program in response to certain conditions\n",
        "\n",
        "age = int(input(\"Enter your age: \"))\n",
        "\n",
        "if age < 20:\n",
        "    print(\"You are young!\")\n",
        "\n",
        "elif age < 50:\n",
        "    print(\"You are an adult!\")\n",
        "\n",
        "else:\n",
        "    print(\"You are old!\")\n"
      ],
      "execution_count": 0,
      "outputs": []
    },
    {
      "metadata": {
        "id": "Iy0UM9-5QBtc",
        "colab_type": "text"
      },
      "cell_type": "markdown",
      "source": [
        "### Lists, Tuples and Dictionaries"
      ]
    },
    {
      "metadata": {
        "collapsed": true,
        "id": "eQMw7qXQQBtd",
        "colab_type": "code",
        "colab": {}
      },
      "cell_type": "code",
      "source": [
        "# A list are a collection of objects\n",
        "numbers = [4, 2, 6, 3, 5]\n",
        "numbers[0] = 6 # The first number is changed\n",
        "more_numbers = [7, 3, 1, 5]\n",
        "more_numbers[-1] = 3 # The last number is changed\n",
        "print(numbers+more_numbers)\n",
        "\n",
        "# A tuple is similar, but they are immutable (cannot be changed)\n",
        "numbers = (14, 3, 6)\n",
        "\n",
        "# Uncomment the next line to see how changing a value in a tuple will result in an error.\n",
        "# numbers[2] = -1\n",
        "print(numbers)\n",
        "print(numbers[0])\n",
        "\n",
        "# An ordered collection of key-value pairs\n",
        "numbers = {\"John\":15, \"Bob\":19, \"Jane\":13} # Keys must be immutable\n",
        "print(numbers)\n",
        "print(numbers[\"Bob\"])\n"
      ],
      "execution_count": 0,
      "outputs": []
    },
    {
      "metadata": {
        "id": "OQT1PYISQBti",
        "colab_type": "text"
      },
      "cell_type": "markdown",
      "source": [
        "## Part II\n",
        "\n",
        "### Jupyter Notebooks\n",
        "\n",
        "A Jupyter-Notebook is an open-source web application that allows you to create and share documents that contain live code, equations, visualizations and narrative text. It is a great way for you to organize, execute and showcase your code. It is a very important tool for data science and data analytics.\n",
        "\n",
        "### Modules\n",
        "\n",
        "A module is a set of functions and objects that have been written and packaged by developers in order to act as part of someone else's programs. Because Python is easy to write, it is often a priority for developers to write modules in Python. This is one of the main reasons that Python is multipurpose. There are various modules for Computer Vision, Music Signal Processing, Natural Language Processing and Numerical Computing, to name a few.\n",
        "\n",
        "#### Numpy\n",
        "\n",
        "NumPy is the fundamental package for scientific computing with Python. It is fast and efficient, which makes up for Python's inherent slowness."
      ]
    },
    {
      "metadata": {
        "id": "lAqE27jKQBtj",
        "colab_type": "code",
        "colab": {}
      },
      "cell_type": "code",
      "source": [
        "import numpy as np\n",
        "\n",
        "A = np.array([[1, 0],\n",
        "              [2, 1]])\n",
        "B = np.array([[2, -1],\n",
        "              [-1, 3]])\n",
        "\n",
        "matrix_mult = A.dot(B)\n",
        "print(\"Matrix Multiplication: \",matrix_mult)\n",
        "print(\"Element-wise Addition: \", A+B)\n",
        "print(\"Element-wise Multiplication: \", A*B)"
      ],
      "execution_count": 0,
      "outputs": []
    },
    {
      "metadata": {
        "id": "MWmilnmRQBtm",
        "colab_type": "code",
        "colab": {}
      },
      "cell_type": "code",
      "source": [
        "x1 = np.arange(0, 10, 0.001) # Create an array of real numbers from 0 to 10 with a spacing of 0.001.\n",
        "x2 = np.linspace(0, 10, 400) # Create an array of real numbers from 0 to 10 consisting of 400 elements.\n",
        "\n",
        "print(np.sin(x1)) # Hard to visualize, next we'll learn how to plot them"
      ],
      "execution_count": 0,
      "outputs": []
    },
    {
      "metadata": {
        "id": "VaoSOkKgk_8e",
        "colab_type": "code",
        "colab": {}
      },
      "cell_type": "code",
      "source": [
        "# This is a very large matrix (6x6). Manually finding its eigenvalues would be a pain. Sol: Use NumPy!\n",
        "large_matrix = np.array([[1, 0, -1, 3, 4, 5],\n",
        "                         [3, 2, 1, -7, 6, -1],\n",
        "                         [4, -1, 0, 0, 3, 3],\n",
        "                         [-2, -8, 10, 3, 4, -2],\n",
        "                         [1, 1, -1, -1, 0, -4],\n",
        "                         [2, -1, -5, -3, 1, 0]])\n",
        "\n",
        "# TODO: Find a numpy function that gets you the eigenvalues of this matrix.\n",
        "\n",
        "print(eigenvalues)\n"
      ],
      "execution_count": 0,
      "outputs": []
    },
    {
      "metadata": {
        "id": "nx2nRU54QBtq",
        "colab_type": "text"
      },
      "cell_type": "markdown",
      "source": [
        "#### Matplotlib\n",
        "\n",
        "Matplotlib is a Python plotting library which produces publication quality figures in a variety of hardcopy formats and interactive environments across platforms."
      ]
    },
    {
      "metadata": {
        "id": "1mljoLd3QBtq",
        "colab_type": "code",
        "colab": {}
      },
      "cell_type": "code",
      "source": [
        "import matplotlib.pyplot as plt\n",
        "%matplotlib inline\n",
        "\n",
        "plt.plot(x1, np.sin(x1))\n",
        "plt.show() # Must call this so that the graph shows up"
      ],
      "execution_count": 0,
      "outputs": []
    },
    {
      "metadata": {
        "id": "0AWdcfkGQBtu",
        "colab_type": "code",
        "colab": {}
      },
      "cell_type": "code",
      "source": [
        "# Figures can be made prettier\n",
        "\n",
        "y1 = plt.plot(x1, np.log(x1), label='$\\log(x)$') # This is going to give a warning because log(0) is undefined.\n",
        "y2 = plt.plot(x1, np.sin(x1), label='$\\sin(x)$')\n",
        "\n",
        "plt.ylim([-2, 2])\n",
        "plt.legend() # Provides a legend of labels specified by the 'label' argument.\n",
        "plt.grid()\n",
        "plt.show()"
      ],
      "execution_count": 0,
      "outputs": []
    },
    {
      "metadata": {
        "id": "st5vzTy8QBtz",
        "colab_type": "code",
        "colab": {}
      },
      "cell_type": "code",
      "source": [
        "x = np.linspace(0, 10, 10)\n",
        "y = 2*x\n",
        "y_noisy = 2*x + 2*np.random.normal(0, size=len(x))\n",
        "plt.scatter(x, y_noisy, marker='x')\n",
        "plt.plot(x, y, color='red')\n",
        "plt.grid()\n",
        "plt.show()"
      ],
      "execution_count": 0,
      "outputs": []
    },
    {
      "metadata": {
        "id": "-5QfLX0oos1R",
        "colab_type": "code",
        "colab": {}
      },
      "cell_type": "code",
      "source": [
        "grades = [50,65,20,40,80,80,30,50,95,65,95,0,50,95,90,85,100,95,60,60,90,65,95,55,85,85,70,65,35,100,30,50,95,70]\n",
        "\n",
        "\n",
        "# TODO: Plot the grades above in a histogram.\n"
      ],
      "execution_count": 0,
      "outputs": []
    },
    {
      "metadata": {
        "id": "8G4JNwU3QBt3",
        "colab_type": "text"
      },
      "cell_type": "markdown",
      "source": [
        "#### Scipy\n",
        "\n",
        "Scipy is a library that provides many user-friendly and efficient numerical routines such as routines for numerical integration and optimization."
      ]
    },
    {
      "metadata": {
        "id": "xL_NQiAkQBt4",
        "colab_type": "code",
        "colab": {}
      },
      "cell_type": "code",
      "source": [
        "import scipy.stats as st\n",
        "\n",
        "x = np.arange(10)\n",
        "y = 3*x + np.random.normal(0, size=len(x))\n",
        "\n",
        "m, c, r,_, _ = st.linregress(x, y) # Last two return values have to do with p-values and gradient errors\n",
        "m = round(m, 2)\n",
        "c = round(c, 2)\n",
        "plt.scatter(x, y, marker='x', color='r')\n",
        "t = np.linspace(np.min(x), np.max(x), 100)\n",
        "plt.plot(t, m*t+c)\n",
        "plt.title('y = {0} + {1}x'.format(c, m))\n",
        "plt.show()\n"
      ],
      "execution_count": 0,
      "outputs": []
    },
    {
      "metadata": {
        "id": "kABvyjzVzQk6",
        "colab_type": "text"
      },
      "cell_type": "markdown",
      "source": [
        "###RC Circuit\n",
        "\n",
        "The differential equation of an RC circuit with a DC voltage applied to it is given by:\n",
        "\n",
        "$$\n",
        "i' + RCi = 0\n",
        "$$\n",
        "\n",
        "Find $i(t)$."
      ]
    },
    {
      "metadata": {
        "id": "TLKyh14hzmpu",
        "colab_type": "code",
        "colab": {}
      },
      "cell_type": "code",
      "source": [
        "from scipy.integrate import odeint\n",
        "\n",
        "def f(y, t, R, C): # This function calculates the derivative on every point of t.\n",
        "  return -R*C*y\n",
        "\n",
        "\n",
        "R = 1e3\n",
        "C = 1e-3\n",
        "E = 12\n",
        "t = np.arange(0, 10, 0.001)\n",
        "i0 = E/R\n",
        "\n",
        "i = odeint(f, i0, t, args=(R, C))\n",
        "plt.subplot(2, 2, 1) # nCols to span, nRows to span and index of the plot respectively.\n",
        "plt.plot(t, i, color='g', label='$i(t)$')\n",
        "plt.xlabel('Current (A)')\n",
        "plt.legend()\n",
        "plt.subplot(2, 2, 2)\n",
        "plt.plot(t, E-R*i, color='r', label='$u_c(t)$')\n",
        "plt.xlabel('Voltage (V)')\n",
        "plt.xlabel('Time (s)')\n",
        "plt.legend()\n",
        "plt.show()"
      ],
      "execution_count": 0,
      "outputs": []
    },
    {
      "metadata": {
        "id": "9ciZ-W2txWlz",
        "colab_type": "text"
      },
      "cell_type": "markdown",
      "source": [
        "###RLC Circuit\n",
        "\n",
        "The differential equation of an RLC circuit with a DC voltage applied to it is given by:\n",
        "\n",
        "$$\n",
        "i'' + \\frac{R}{L}i' + \\frac{1}{LC}i = 0\n",
        "$$\n",
        "\n",
        "Find $i(t)$.\n",
        "\n",
        "This time, we should really think of it as a system of differential equations:\n",
        "\n",
        "$$\n",
        "\\begin{cases} i' = q \\\\ q' = -\\frac{i+RCq}{L} \\end{cases}\n",
        "$$"
      ]
    },
    {
      "metadata": {
        "id": "VrXwUnV0zF-v",
        "colab_type": "code",
        "colab": {}
      },
      "cell_type": "code",
      "source": [
        "def f2(y, t, R, L, C): # This function calculates the derivative of the system of equations on every point of t.\n",
        "  i, q = y\n",
        "  i_prime = q\n",
        "  q_prime = -(i/C + R*q)/L\n",
        "  return [i_prime, q_prime]\n",
        "  \n",
        "\n",
        "\n",
        "R = 2\n",
        "C = 1e-2\n",
        "L = 5\n",
        "E = 12\n",
        "t = np.arange(0, 10, 0.001)\n",
        "initial_conditions = [0, E/L]\n",
        "\n",
        "i = odeint(f2, initial_conditions, t, args=(R, L, C))[:,0]\n",
        "plt.subplot(2, 2, 1) # nCols to span, nRows to span and index of the plot respectively.\n",
        "plt.plot(t, i, color='g', label='$i(t)$')\n",
        "plt.xlabel('Current (A)')\n",
        "plt.legend()\n",
        "plt.subplot(2, 2, 2)\n",
        "plt.plot(t, E-R*i, color='r', label='$u_{LC}(t)$')\n",
        "plt.xlabel('Voltage (V)')\n",
        "plt.xlabel('Time (s)')\n",
        "plt.legend()\n",
        "plt.show()"
      ],
      "execution_count": 0,
      "outputs": []
    },
    {
      "metadata": {
        "id": "EN3vDVmvAyG3",
        "colab_type": "text"
      },
      "cell_type": "markdown",
      "source": [
        "### Discussion on Virtual Environments and Python Lingo\n",
        "\n",
        "A virtual environment is a way to create isolated \"versions\" of your python interpreter. It allows you to separate packages from one another and create dedicated interpreters. \n",
        "\n",
        "For example, it is sometimes the case that some packages are not very well support under a certain version of Python, say Python 3.6. In order to still use that package, one can create a new virtual environment, clean of any previously installed modules, to use a specific module without any problems. That virtual environment will be configured to run all Python programs with another interpreter.\n",
        "\n",
        "Another reason for using virtual environments is to test out a package that may be difficult to install, and might perhaps cause some naming issues with some other packages.\n",
        "\n",
        "\n",
        "### Anaconda\n",
        "\n",
        "Anaconda is a cross-platform package and virtual environment manager with a graphical interface that makes it very easy to create, switch between and install packages on multiple virtual environments. Moreover, some IDEs will allows you to configure your Python interpreter to one that was created in Anaconda.\n",
        "\n",
        "\n",
        "### Pip\n",
        "\n",
        "Pip is a cross-platform Python package installer. It is fairly straightforward to use. To install a package, just run:\n",
        "\n",
        "```bash\n",
        "pip install <package-name>\n",
        "```\n",
        "\n",
        "To uninstall, just run:\n",
        "```bash\n",
        "pip uninstall <package-name>\n",
        "```\n",
        "\n",
        "Most packages will be available for installation via pip & Anaconda.\n",
        "\n",
        "Some packages will be available for installation on Github and usually just need to be downloaded, and installed with:\n",
        "\n",
        "```bash\n",
        "python setup.py install\n",
        "```\n",
        "\n",
        "Note for Windows users: \\\n",
        "You need to add python and pip to your environment variables. Like this: https://www.youtube.com/watch?v=UTUlp6L2zkw\n",
        "\n"
      ]
    },
    {
      "metadata": {
        "id": "H80FIkLBFURM",
        "colab_type": "text"
      },
      "cell_type": "markdown",
      "source": [
        "#### Requests\n",
        "\n",
        "Requests is a library that contains several functions to handle and execute HTTP requests."
      ]
    },
    {
      "metadata": {
        "id": "zYUYfkpzFf31",
        "colab_type": "code",
        "colab": {}
      },
      "cell_type": "code",
      "source": [
        "import requests\n",
        "\n",
        "app_id = '67d0e63820e7af3562fc536371e4a50a' # This is given to us by OWM to access their data.\n",
        "params = {'q':'Beirut,LB', 'APPID':app_id, 'lang':'en'} # Parameters to pass to the request.\n",
        "\n",
        "res = requests.get(\"http://api.openweathermap.org/data/2.5/weather?\", params) # Perform the GET request.\n",
        "jsonData = res.json()\n",
        "mainDetails = jsonData['main']\n",
        "weatherDetails = jsonData['weather']\n",
        "location = jsonData['name'] + \", \" + jsonData['sys']['country']\n",
        "temperature = mainDetails['temp'] #Temp in Kelvin. Could use units=metric instead.\n",
        "pressure = mainDetails['pressure']\n",
        "skyAppearance = weatherDetails[0]['description']\n",
        "\n",
        "message = \"Weather data about \" + location + \": \" + '\\n' + \"Temperature: \" + str(round(temperature - 273.15, 2)) + \" C\"\\\n",
        "          + '\\nPressure: ' + str(pressure) +' mBars\\nDescription: ' + skyAppearance\n",
        "print(message, '\\n\\n\\n')\n"
      ],
      "execution_count": 0,
      "outputs": []
    },
    {
      "metadata": {
        "id": "51cnFQGGGp8t",
        "colab_type": "code",
        "colab": {}
      },
      "cell_type": "code",
      "source": [
        "lon = 35.5018\n",
        "lat = 33.8938\n",
        "\n",
        "# TODO: Find the UV Index at the specified longitude and latitude. These are the cooridnates for Beirut, Lebanon."
      ],
      "execution_count": 0,
      "outputs": []
    },
    {
      "metadata": {
        "id": "hkgsbIGvFoKm",
        "colab_type": "text"
      },
      "cell_type": "markdown",
      "source": [
        "### Pandas\n",
        "\n",
        "Pandas is a library for data manipulation and analysis. In particular, it offers data structures and operations for manipulating numerical tables and time series."
      ]
    },
    {
      "metadata": {
        "id": "ySTSNp03-DaI",
        "colab_type": "code",
        "colab": {}
      },
      "cell_type": "code",
      "source": [
        "!curl -L -o dataset.csv \"https://drive.google.com/uc?export=download&id=1rJiYRwEnHQM2ZSPOpZsjGVdokhsLoU3o\"\n",
        "\n",
        "!ls -alh"
      ],
      "execution_count": 0,
      "outputs": []
    },
    {
      "metadata": {
        "id": "2CLc-Cv4LKhN",
        "colab_type": "code",
        "colab": {}
      },
      "cell_type": "code",
      "source": [
        "import pandas as pd\n",
        "df = pd.read_csv('dataset.csv')\n",
        "shape = df.shape # Returns the number of rows & columns.\n",
        "print('This dataframe has {} rows and {}'.format(shape[0], shape[1]))\n",
        "\n",
        "df.head() # Prints the first 5 rows."
      ],
      "execution_count": 0,
      "outputs": []
    },
    {
      "metadata": {
        "id": "ReefgdSaJz5M",
        "colab_type": "text"
      },
      "cell_type": "markdown",
      "source": [
        "#### Movie Running Time\n",
        "\n",
        "Let us find the runtime distribution of the movies."
      ]
    },
    {
      "metadata": {
        "id": "1EVZPgvhGIFm",
        "colab_type": "code",
        "colab": {}
      },
      "cell_type": "code",
      "source": [
        "runtime = df['Runtime (Minutes)'] # Select only the running time\n",
        "\n",
        "plt.hist(runtime, bins=50) # Plot the runtime distribution\n",
        "plt.show()\n",
        "print(\"Average running time is: {} minutes\".format(np.mean(runtime))) # Print the average running time"
      ],
      "execution_count": 0,
      "outputs": []
    },
    {
      "metadata": {
        "id": "7kpYhWBqJuH1",
        "colab_type": "code",
        "colab": {}
      },
      "cell_type": "code",
      "source": [
        "year = df['Year']\n",
        "\n",
        "y1, y2 = np.min(year), np.max(year)\n",
        "av_ratings = np.zeros(y2-y1+1)\n",
        "max_ratings = np.zeros(y2-y1+1)\n",
        "min_ratings = np.zeros(y2-y1+1)\n",
        "\n",
        "\n",
        "for i in range(y1, y2 + 1):\n",
        "  series = df[df['Year'] == i]['Rating']\n",
        "  av_ratings[i-y1] = np.mean(series)\n",
        "  max_ratings[i-y1] = np.max(series)\n",
        "  min_ratings[i-y1] = np.min(series)\n",
        "\n",
        "\n",
        "plt.plot([i for i in range(y1, y2+1)], av_ratings, label='Average Ratings per Year')\n",
        "plt.plot([i for i in range(y1, y2+1)], max_ratings, label='Max Ratings per Year')\n",
        "plt.plot([i for i in range(y1, y2+1)], min_ratings, label='Min Ratings per Year')\n",
        "plt.legend()\n",
        "plt.show()"
      ],
      "execution_count": 0,
      "outputs": []
    },
    {
      "metadata": {
        "id": "PO1ahuWKOWvs",
        "colab_type": "code",
        "colab": {}
      },
      "cell_type": "code",
      "source": [
        "# TODO: Find the name of that really bad movie. Hint: The ratings aren't integers, they're real numbers, so it's easier to check for inequality.\n",
        "\n",
        "\n",
        "# TODO: Find the director that, on average, will make the most money."
      ],
      "execution_count": 0,
      "outputs": []
    }
  ]
}